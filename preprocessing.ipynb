{
 "cells": [
  {
   "cell_type": "code",
   "execution_count": 18,
   "id": "8fb8e608",
   "metadata": {},
   "outputs": [],
   "source": [
    "import pandas as pd\n",
    "import math\n",
    "import torch"
   ]
  },
  {
   "cell_type": "code",
   "execution_count": 2,
   "id": "4ecb1176",
   "metadata": {},
   "outputs": [
    {
     "data": {
      "text/plain": [
       "'/Users/zhengyangqi/Desktop/ClimateTopicModeling'"
      ]
     },
     "execution_count": 2,
     "metadata": {},
     "output_type": "execute_result"
    }
   ],
   "source": [
    "%pwd"
   ]
  },
  {
   "cell_type": "code",
   "execution_count": 1,
   "id": "aefa54b0",
   "metadata": {},
   "outputs": [
    {
     "ename": "NameError",
     "evalue": "name 'pd' is not defined",
     "output_type": "error",
     "traceback": [
      "\u001b[0;31m---------------------------------------------------------------------------\u001b[0m",
      "\u001b[0;31mNameError\u001b[0m                                 Traceback (most recent call last)",
      "\u001b[0;32m<ipython-input-1-076fc1d5ffab>\u001b[0m in \u001b[0;36m<module>\u001b[0;34m\u001b[0m\n\u001b[0;32m----> 1\u001b[0;31m \u001b[0mdf\u001b[0m \u001b[0;34m=\u001b[0m \u001b[0mpd\u001b[0m\u001b[0;34m.\u001b[0m\u001b[0mread_csv\u001b[0m\u001b[0;34m(\u001b[0m\u001b[0;34m\"labeled_reddit.csv\"\u001b[0m\u001b[0;34m)\u001b[0m\u001b[0;34m\u001b[0m\u001b[0;34m\u001b[0m\u001b[0m\n\u001b[0m",
      "\u001b[0;31mNameError\u001b[0m: name 'pd' is not defined"
     ]
    }
   ],
   "source": [
    "df = pd.read_csv(\"reddit_posts.csv\")"
   ]
  },
  {
   "cell_type": "code",
   "execution_count": 4,
   "id": "06189ffe",
   "metadata": {},
   "outputs": [
    {
     "data": {
      "text/html": [
       "<div>\n",
       "<style scoped>\n",
       "    .dataframe tbody tr th:only-of-type {\n",
       "        vertical-align: middle;\n",
       "    }\n",
       "\n",
       "    .dataframe tbody tr th {\n",
       "        vertical-align: top;\n",
       "    }\n",
       "\n",
       "    .dataframe thead th {\n",
       "        text-align: right;\n",
       "    }\n",
       "</style>\n",
       "<table border=\"1\" class=\"dataframe\">\n",
       "  <thead>\n",
       "    <tr style=\"text-align: right;\">\n",
       "      <th></th>\n",
       "      <th>Unnamed: 0</th>\n",
       "      <th>title</th>\n",
       "      <th>score</th>\n",
       "      <th>id</th>\n",
       "      <th>subreddit</th>\n",
       "      <th>url</th>\n",
       "      <th>num_comments</th>\n",
       "      <th>body</th>\n",
       "      <th>created</th>\n",
       "      <th>comments</th>\n",
       "    </tr>\n",
       "  </thead>\n",
       "  <tbody>\n",
       "    <tr>\n",
       "      <th>0</th>\n",
       "      <td>0</td>\n",
       "      <td>Question about us gamers</td>\n",
       "      <td>2</td>\n",
       "      <td>i5a7p5</td>\n",
       "      <td>climatechange</td>\n",
       "      <td>https://www.reddit.com/r/climatechange/comment...</td>\n",
       "      <td>18</td>\n",
       "      <td>Does the power consumption we have on our buil...</td>\n",
       "      <td>1.596789e+09</td>\n",
       "      <td>I remember seeing a nice graph showing the ann...</td>\n",
       "    </tr>\n",
       "    <tr>\n",
       "      <th>1</th>\n",
       "      <td>1</td>\n",
       "      <td>Combating climate change – why investors shoul...</td>\n",
       "      <td>1</td>\n",
       "      <td>i58avp</td>\n",
       "      <td>climatechange</td>\n",
       "      <td>https://theconversation.com/combating-climate-...</td>\n",
       "      <td>7</td>\n",
       "      <td>NaN</td>\n",
       "      <td>1.596779e+09</td>\n",
       "      <td>x-posted to /r/climatepolicy - please discuss ...</td>\n",
       "    </tr>\n",
       "    <tr>\n",
       "      <th>2</th>\n",
       "      <td>2</td>\n",
       "      <td>Increased future occurrences of 2018-2019 Euro...</td>\n",
       "      <td>2</td>\n",
       "      <td>i576gj</td>\n",
       "      <td>climatechange</td>\n",
       "      <td>https://www.reddit.com/r/climatechange/comment...</td>\n",
       "      <td>0</td>\n",
       "      <td>[https://www.nature.com/articles/s41598-020-68...</td>\n",
       "      <td>1.596774e+09</td>\n",
       "      <td>NaN</td>\n",
       "    </tr>\n",
       "    <tr>\n",
       "      <th>3</th>\n",
       "      <td>3</td>\n",
       "      <td>Are we heading to Hell?</td>\n",
       "      <td>1</td>\n",
       "      <td>i532bd</td>\n",
       "      <td>climatechange</td>\n",
       "      <td>https://www.reddit.com/r/climatechange/comment...</td>\n",
       "      <td>0</td>\n",
       "      <td>[removed]</td>\n",
       "      <td>1.596757e+09</td>\n",
       "      <td>NaN</td>\n",
       "    </tr>\n",
       "    <tr>\n",
       "      <th>4</th>\n",
       "      <td>4</td>\n",
       "      <td>Turning carbon dioxide into liquid fuel. Scien...</td>\n",
       "      <td>85</td>\n",
       "      <td>i4uyb0</td>\n",
       "      <td>climatechange</td>\n",
       "      <td>https://www.anl.gov/article/turning-carbon-dio...</td>\n",
       "      <td>16</td>\n",
       "      <td>NaN</td>\n",
       "      <td>1.596731e+09</td>\n",
       "      <td>This is good news.#^_^#Does burning the ethano...</td>\n",
       "    </tr>\n",
       "    <tr>\n",
       "      <th>5</th>\n",
       "      <td>5</td>\n",
       "      <td>Can investing thoughtfully help stop climate c...</td>\n",
       "      <td>1</td>\n",
       "      <td>i4u6bx</td>\n",
       "      <td>climatechange</td>\n",
       "      <td>https://coolerfuture.com/blog/climate-impact-i...</td>\n",
       "      <td>1</td>\n",
       "      <td>NaN</td>\n",
       "      <td>1.596729e+09</td>\n",
       "      <td>x-posted to /r/climatepolicy - please discuss ...</td>\n",
       "    </tr>\n",
       "    <tr>\n",
       "      <th>6</th>\n",
       "      <td>6</td>\n",
       "      <td>The truth about animal industry and sustainabi...</td>\n",
       "      <td>1</td>\n",
       "      <td>i4rjap</td>\n",
       "      <td>climatechange</td>\n",
       "      <td>https://www.youtube.com/watch?v=dSjE8xw_-Dg&amp;fe...</td>\n",
       "      <td>0</td>\n",
       "      <td>[deleted]</td>\n",
       "      <td>1.596719e+09</td>\n",
       "      <td>NaN</td>\n",
       "    </tr>\n",
       "    <tr>\n",
       "      <th>7</th>\n",
       "      <td>7</td>\n",
       "      <td>Where can I read the most unbiased, factual tu...</td>\n",
       "      <td>2</td>\n",
       "      <td>i4oddo</td>\n",
       "      <td>climatechange</td>\n",
       "      <td>https://www.reddit.com/r/climatechange/comment...</td>\n",
       "      <td>24</td>\n",
       "      <td>Both sides of the matter skew the story to the...</td>\n",
       "      <td>1.596705e+09</td>\n",
       "      <td>Maybe in the court documents :\\n\\n[https://www...</td>\n",
       "    </tr>\n",
       "    <tr>\n",
       "      <th>8</th>\n",
       "      <td>8</td>\n",
       "      <td>What would be the long lasting impact of globa...</td>\n",
       "      <td>1</td>\n",
       "      <td>i4nc5b</td>\n",
       "      <td>climatechange</td>\n",
       "      <td>https://www.reddit.com/r/climatechange/comment...</td>\n",
       "      <td>0</td>\n",
       "      <td>[removed]</td>\n",
       "      <td>1.596699e+09</td>\n",
       "      <td>NaN</td>\n",
       "    </tr>\n",
       "    <tr>\n",
       "      <th>9</th>\n",
       "      <td>9</td>\n",
       "      <td>End of civilization caused by climate change i...</td>\n",
       "      <td>1</td>\n",
       "      <td>i4n1vr</td>\n",
       "      <td>climatechange</td>\n",
       "      <td>https://www.reddit.com/r/climatechange/comment...</td>\n",
       "      <td>1</td>\n",
       "      <td>[removed]</td>\n",
       "      <td>1.596698e+09</td>\n",
       "      <td>Posts are automatically removed until your acc...</td>\n",
       "    </tr>\n",
       "  </tbody>\n",
       "</table>\n",
       "</div>"
      ],
      "text/plain": [
       "   Unnamed: 0                                              title  score  \\\n",
       "0           0                           Question about us gamers      2   \n",
       "1           1  Combating climate change – why investors shoul...      1   \n",
       "2           2  Increased future occurrences of 2018-2019 Euro...      2   \n",
       "3           3                            Are we heading to Hell?      1   \n",
       "4           4  Turning carbon dioxide into liquid fuel. Scien...     85   \n",
       "5           5  Can investing thoughtfully help stop climate c...      1   \n",
       "6           6  The truth about animal industry and sustainabi...      1   \n",
       "7           7  Where can I read the most unbiased, factual tu...      2   \n",
       "8           8  What would be the long lasting impact of globa...      1   \n",
       "9           9  End of civilization caused by climate change i...      1   \n",
       "\n",
       "       id      subreddit                                                url  \\\n",
       "0  i5a7p5  climatechange  https://www.reddit.com/r/climatechange/comment...   \n",
       "1  i58avp  climatechange  https://theconversation.com/combating-climate-...   \n",
       "2  i576gj  climatechange  https://www.reddit.com/r/climatechange/comment...   \n",
       "3  i532bd  climatechange  https://www.reddit.com/r/climatechange/comment...   \n",
       "4  i4uyb0  climatechange  https://www.anl.gov/article/turning-carbon-dio...   \n",
       "5  i4u6bx  climatechange  https://coolerfuture.com/blog/climate-impact-i...   \n",
       "6  i4rjap  climatechange  https://www.youtube.com/watch?v=dSjE8xw_-Dg&fe...   \n",
       "7  i4oddo  climatechange  https://www.reddit.com/r/climatechange/comment...   \n",
       "8  i4nc5b  climatechange  https://www.reddit.com/r/climatechange/comment...   \n",
       "9  i4n1vr  climatechange  https://www.reddit.com/r/climatechange/comment...   \n",
       "\n",
       "   num_comments                                               body  \\\n",
       "0            18  Does the power consumption we have on our buil...   \n",
       "1             7                                                NaN   \n",
       "2             0  [https://www.nature.com/articles/s41598-020-68...   \n",
       "3             0                                          [removed]   \n",
       "4            16                                                NaN   \n",
       "5             1                                                NaN   \n",
       "6             0                                          [deleted]   \n",
       "7            24  Both sides of the matter skew the story to the...   \n",
       "8             0                                          [removed]   \n",
       "9             1                                          [removed]   \n",
       "\n",
       "        created                                           comments  \n",
       "0  1.596789e+09  I remember seeing a nice graph showing the ann...  \n",
       "1  1.596779e+09  x-posted to /r/climatepolicy - please discuss ...  \n",
       "2  1.596774e+09                                                NaN  \n",
       "3  1.596757e+09                                                NaN  \n",
       "4  1.596731e+09  This is good news.#^_^#Does burning the ethano...  \n",
       "5  1.596729e+09  x-posted to /r/climatepolicy - please discuss ...  \n",
       "6  1.596719e+09                                                NaN  \n",
       "7  1.596705e+09  Maybe in the court documents :\\n\\n[https://www...  \n",
       "8  1.596699e+09                                                NaN  \n",
       "9  1.596698e+09  Posts are automatically removed until your acc...  "
      ]
     },
     "execution_count": 4,
     "metadata": {},
     "output_type": "execute_result"
    }
   ],
   "source": [
    "df.head(10)"
   ]
  },
  {
   "cell_type": "code",
   "execution_count": 5,
   "id": "38cd85cd",
   "metadata": {},
   "outputs": [
    {
     "name": "stdout",
     "output_type": "stream",
     "text": [
      "8197\n"
     ]
    }
   ],
   "source": [
    "print(len(df))"
   ]
  },
  {
   "cell_type": "code",
   "execution_count": 6,
   "id": "5a6a04be",
   "metadata": {},
   "outputs": [
    {
     "name": "stdout",
     "output_type": "stream",
     "text": [
      "True\n",
      "<class 'float'>\n"
     ]
    }
   ],
   "source": [
    "print(math.isnan(df.iloc[1]['body']))\n",
    "print(type(df.iloc[1]['body']))\n"
   ]
  },
  {
   "cell_type": "code",
   "execution_count": 7,
   "id": "cc112b42",
   "metadata": {},
   "outputs": [],
   "source": [
    "body = df['body']"
   ]
  },
  {
   "cell_type": "code",
   "execution_count": 8,
   "id": "a2bf7362",
   "metadata": {},
   "outputs": [
    {
     "data": {
      "text/plain": [
       "8197"
      ]
     },
     "execution_count": 8,
     "metadata": {},
     "output_type": "execute_result"
    }
   ],
   "source": [
    "len(df)"
   ]
  },
  {
   "cell_type": "code",
   "execution_count": 9,
   "id": "2843093b",
   "metadata": {},
   "outputs": [
    {
     "data": {
      "text/plain": [
       "7049"
      ]
     },
     "execution_count": 9,
     "metadata": {},
     "output_type": "execute_result"
    }
   ],
   "source": [
    "count = 0\n",
    "k = 0\n",
    "for i in range(len(df)):\n",
    "    body = df.iloc[i]['body']\n",
    "    comments = df.iloc[i]['comments']\n",
    "    if body == \"[deleted]\" or body == \"[removed]\" or type(body) == float or type(comments) == float: \n",
    "        count += 1\n",
    "count"
   ]
  },
  {
   "cell_type": "code",
   "execution_count": 10,
   "id": "e906f45a",
   "metadata": {},
   "outputs": [
    {
     "name": "stdout",
     "output_type": "stream",
     "text": [
      "1148\n"
     ]
    }
   ],
   "source": [
    "good_rows = []\n",
    "for i in range(len(df)):\n",
    "    body = df.iloc[i]['body']\n",
    "    comments = df.iloc[i]['comments']\n",
    "    if body != \"[deleted]\" and body != \"[removed]\" and type(body) != float and type(comments) != float:\n",
    "        good_rows.append(list(df.iloc[i]))\n",
    "print(len(good_rows))"
   ]
  },
  {
   "cell_type": "code",
   "execution_count": 11,
   "id": "cbbabf26",
   "metadata": {},
   "outputs": [
    {
     "name": "stdout",
     "output_type": "stream",
     "text": [
      "[0, 'Question about us gamers', 2, 'i5a7p5', 'climatechange', 'https://www.reddit.com/r/climatechange/comments/i5a7p5/question_about_us_gamers/', 18, 'Does the power consumption we have on our builds affect this?\\n\\nor are we all just a drop of water in a big bucket.\\n\\ni mean i see some pc builds whose power consumption goes up to almost if not a KW \\n\\nshould companies be blocked i  releasing videocards that consume.more than 150wats? \\nor cpu with no more than 65?', 1596789434.0, 'I remember seeing a nice graph showing the annual power consumption of gaming in America compared to transport and other things, can\\'t find it right now, but I did manage to find this article which sums it up pretty clearly: \\n\\n [https://www.pcgamesn.com/microsoft/gaming-environmental-impact](https://www.pcgamesn.com/microsoft/gaming-environmental-impact) \\n\\n\" **Counting PCs, laptops, and consoles, gaming hardware has the same carbon footprint as 85 million refrigerators or 5 million gas-guzzling cars.** \" - not worldwide, but in America.\\n\\nThe article also makes some points about companies intending to significantly reduce their footprint by making hardware more efficient (playstation 5 promises greener efficiency and Logitech also promised to go greener I\\'ve read somewhere today, in the sense of being carbon neutral in their production or something to that effect).\\n\\nHowever as usual I really see the onus being primarily on the governments and economy - individuals like us can in little to no way really effect how companies manufacture their goods, or source their power, or design their hardware. Sure, we can take ourselves out of the equation or reduce our individual impact, but I don\\'t see how that\\'s a realistic solution, albeit being maybe a sensible and decent thing to do.#^_^#In the summer I would say wattage is quite significant, especially when the weather is hot enough to require you to trun on the AC to cool all that heat. \\n\\nThe mega computation (and also the wattage) that some of these high powered GPU\\'s is crazy in my opinion. \\n\\nIt\\'s not that rare that  people put 600W+ power supplies and pull ~500W on a gaming system. In the winter that makes a great space heater, but in the summer that number really adds up fast (it\\'s about the same as the wattage that a window AC unit pulls).  \\n\\nUnless you have an efficient 720p oriented system, take a summer break from desktop gaming. An xbox or efficient APU system pull ~100W\\n\\nYou can still do laptop gaming and explore some other gaming genres that don\\'t pull those crazy amounts of GPU computation. Eg strategy gaming, retro gaming, sims, etc. A laptop typically pulls under 50W, including losses to heat at the power supply.#^_^#I have full wind power energy supplied at my place. I might still draw more power than I need sometimes but this is how I don\\'t feel guilty about it. It\\'s not expensive either. I hope it\\'s an option where you live.#^_^#Yes, I\\'d say the power consumption from gaming is something to consider seriously. Consider also the reason for the power consumption: it\\'s largely about graphics. Yet you can have equally fun play experiences with games that have far simpler graphics (you only need to look at retro indie games to realise that). Games are very seductive, and I have always loved them. But really, there are infinite ways to entertain ourselves in a very rich and satisfying way, or even a quick and easy way, that don\\'t even use a computer. Some of them are even good for our health too! But back to the main point: the amount of CO2 production that goes into running gaming machines, let alone that which goes into manufacturing the hardware itself, is probably one of the more significant single sources of CO2 footprint that an individual has outside of a car and food. Worth thinking more about. If you wanted to get into it, you could probably do a rough calculation of the CO2 footprint for gaming and make a side by side comparison with the CO2 footprint of various other things we do or own. Shouldn\\'t be that hard to begin building some kind of picture of this.#^_^#']\n"
     ]
    }
   ],
   "source": [
    "print(good_rows[0])"
   ]
  },
  {
   "cell_type": "code",
   "execution_count": 12,
   "id": "3efc4c0c",
   "metadata": {},
   "outputs": [
    {
     "data": {
      "text/plain": [
       "7004"
      ]
     },
     "execution_count": 12,
     "metadata": {},
     "output_type": "execute_result"
    }
   ],
   "source": [
    "new_frame = []\n",
    "for row in good_rows:\n",
    "    row = row[1:]\n",
    "    comments = row[-1]\n",
    "    comments = comments.split('#^_^#')\n",
    "    for comment in comments[0:-1]:\n",
    "        new_row = row[0:-1].append(comment)\n",
    "        new_frame.append(new_row)\n",
    "len(new_frame)"
   ]
  },
  {
   "cell_type": "code",
   "execution_count": 13,
   "id": "292f350f",
   "metadata": {},
   "outputs": [
    {
     "name": "stdout",
     "output_type": "stream",
     "text": [
      "I remember seeing a nice graph showing the annual power consumption of gaming in America compared to transport and other things, can't find it right now, but I did manage to find this article which sums it up pretty clearly: \n",
      "\n",
      " [https://www.pcgamesn.com/microsoft/gaming-environmental-impact](https://www.pcgamesn.com/microsoft/gaming-environmental-impact) \n",
      "\n",
      "\" **Counting PCs, laptops, and consoles, gaming hardware has the same carbon footprint as 85 million refrigerators or 5 million gas-guzzling cars.** \" - not worldwide, but in America.\n",
      "\n",
      "The article also makes some points about companies intending to significantly reduce their footprint by making hardware more efficient (playstation 5 promises greener efficiency and Logitech also promised to go greener I've read somewhere today, in the sense of being carbon neutral in their production or something to that effect).\n",
      "\n",
      "However as usual I really see the onus being primarily on the governments and economy - individuals like us can in little to no way really effect how companies manufacture their goods, or source their power, or design their hardware. Sure, we can take ourselves out of the equation or reduce our individual impact, but I don't see how that's a realistic solution, albeit being maybe a sensible and decent thing to do.\n",
      "In the summer I would say wattage is quite significant, especially when the weather is hot enough to require you to trun on the AC to cool all that heat. \n",
      "\n",
      "The mega computation (and also the wattage) that some of these high powered GPU's is crazy in my opinion. \n",
      "\n",
      "It's not that rare that  people put 600W+ power supplies and pull ~500W on a gaming system. In the winter that makes a great space heater, but in the summer that number really adds up fast (it's about the same as the wattage that a window AC unit pulls).  \n",
      "\n",
      "Unless you have an efficient 720p oriented system, take a summer break from desktop gaming. An xbox or efficient APU system pull ~100W\n",
      "\n",
      "You can still do laptop gaming and explore some other gaming genres that don't pull those crazy amounts of GPU computation. Eg strategy gaming, retro gaming, sims, etc. A laptop typically pulls under 50W, including losses to heat at the power supply.\n",
      "I have full wind power energy supplied at my place. I might still draw more power than I need sometimes but this is how I don't feel guilty about it. It's not expensive either. I hope it's an option where you live.\n",
      "Yes, I'd say the power consumption from gaming is something to consider seriously. Consider also the reason for the power consumption: it's largely about graphics. Yet you can have equally fun play experiences with games that have far simpler graphics (you only need to look at retro indie games to realise that). Games are very seductive, and I have always loved them. But really, there are infinite ways to entertain ourselves in a very rich and satisfying way, or even a quick and easy way, that don't even use a computer. Some of them are even good for our health too! But back to the main point: the amount of CO2 production that goes into running gaming machines, let alone that which goes into manufacturing the hardware itself, is probably one of the more significant single sources of CO2 footprint that an individual has outside of a car and food. Worth thinking more about. If you wanted to get into it, you could probably do a rough calculation of the CO2 footprint for gaming and make a side by side comparison with the CO2 footprint of various other things we do or own. Shouldn't be that hard to begin building some kind of picture of this.\n",
      "\n"
     ]
    }
   ],
   "source": [
    "row = good_rows[0]\n",
    "row = row[1:]\n",
    "comments = row[-1]\n",
    "comments = comments.split('#^_^#')\n",
    "for i in comments:\n",
    "    print(i)"
   ]
  },
  {
   "cell_type": "code",
   "execution_count": null,
   "id": "75f1c15e",
   "metadata": {},
   "outputs": [],
   "source": []
  },
  {
   "cell_type": "code",
   "execution_count": 14,
   "id": "70de6b4c",
   "metadata": {},
   "outputs": [
    {
     "data": {
      "text/plain": [
       "7004"
      ]
     },
     "execution_count": 14,
     "metadata": {},
     "output_type": "execute_result"
    }
   ],
   "source": [
    "new_frame = []\n",
    "count = 0\n",
    "for row in good_rows:\n",
    "    row = row[1:]\n",
    "    comments = row[-1]\n",
    "    comments = comments.split('#^_^#')\n",
    "    for comment in comments[0:-1]:\n",
    "        new_row = row[0:-1] + [comment]\n",
    "        new_frame.append(new_row)\n",
    "    if count == 10:\n",
    "        break\n",
    "len(new_frame)"
   ]
  },
  {
   "cell_type": "code",
   "execution_count": 15,
   "id": "4416fb6c",
   "metadata": {},
   "outputs": [
    {
     "name": "stdout",
     "output_type": "stream",
     "text": [
      "['Question about us gamers', 2, 'i5a7p5', 'climatechange', 'https://www.reddit.com/r/climatechange/comments/i5a7p5/question_about_us_gamers/', 18, 'Does the power consumption we have on our builds affect this?\\n\\nor are we all just a drop of water in a big bucket.\\n\\ni mean i see some pc builds whose power consumption goes up to almost if not a KW \\n\\nshould companies be blocked i  releasing videocards that consume.more than 150wats? \\nor cpu with no more than 65?', 1596789434.0, 'I remember seeing a nice graph showing the annual power consumption of gaming in America compared to transport and other things, can\\'t find it right now, but I did manage to find this article which sums it up pretty clearly: \\n\\n [https://www.pcgamesn.com/microsoft/gaming-environmental-impact](https://www.pcgamesn.com/microsoft/gaming-environmental-impact) \\n\\n\" **Counting PCs, laptops, and consoles, gaming hardware has the same carbon footprint as 85 million refrigerators or 5 million gas-guzzling cars.** \" - not worldwide, but in America.\\n\\nThe article also makes some points about companies intending to significantly reduce their footprint by making hardware more efficient (playstation 5 promises greener efficiency and Logitech also promised to go greener I\\'ve read somewhere today, in the sense of being carbon neutral in their production or something to that effect).\\n\\nHowever as usual I really see the onus being primarily on the governments and economy - individuals like us can in little to no way really effect how companies manufacture their goods, or source their power, or design their hardware. Sure, we can take ourselves out of the equation or reduce our individual impact, but I don\\'t see how that\\'s a realistic solution, albeit being maybe a sensible and decent thing to do.']\n",
      "['Question about us gamers', 2, 'i5a7p5', 'climatechange', 'https://www.reddit.com/r/climatechange/comments/i5a7p5/question_about_us_gamers/', 18, 'Does the power consumption we have on our builds affect this?\\n\\nor are we all just a drop of water in a big bucket.\\n\\ni mean i see some pc builds whose power consumption goes up to almost if not a KW \\n\\nshould companies be blocked i  releasing videocards that consume.more than 150wats? \\nor cpu with no more than 65?', 1596789434.0, \"In the summer I would say wattage is quite significant, especially when the weather is hot enough to require you to trun on the AC to cool all that heat. \\n\\nThe mega computation (and also the wattage) that some of these high powered GPU's is crazy in my opinion. \\n\\nIt's not that rare that  people put 600W+ power supplies and pull ~500W on a gaming system. In the winter that makes a great space heater, but in the summer that number really adds up fast (it's about the same as the wattage that a window AC unit pulls).  \\n\\nUnless you have an efficient 720p oriented system, take a summer break from desktop gaming. An xbox or efficient APU system pull ~100W\\n\\nYou can still do laptop gaming and explore some other gaming genres that don't pull those crazy amounts of GPU computation. Eg strategy gaming, retro gaming, sims, etc. A laptop typically pulls under 50W, including losses to heat at the power supply.\"]\n",
      "['Question about us gamers', 2, 'i5a7p5', 'climatechange', 'https://www.reddit.com/r/climatechange/comments/i5a7p5/question_about_us_gamers/', 18, 'Does the power consumption we have on our builds affect this?\\n\\nor are we all just a drop of water in a big bucket.\\n\\ni mean i see some pc builds whose power consumption goes up to almost if not a KW \\n\\nshould companies be blocked i  releasing videocards that consume.more than 150wats? \\nor cpu with no more than 65?', 1596789434.0, \"I have full wind power energy supplied at my place. I might still draw more power than I need sometimes but this is how I don't feel guilty about it. It's not expensive either. I hope it's an option where you live.\"]\n",
      "['Question about us gamers', 2, 'i5a7p5', 'climatechange', 'https://www.reddit.com/r/climatechange/comments/i5a7p5/question_about_us_gamers/', 18, 'Does the power consumption we have on our builds affect this?\\n\\nor are we all just a drop of water in a big bucket.\\n\\ni mean i see some pc builds whose power consumption goes up to almost if not a KW \\n\\nshould companies be blocked i  releasing videocards that consume.more than 150wats? \\nor cpu with no more than 65?', 1596789434.0, \"Yes, I'd say the power consumption from gaming is something to consider seriously. Consider also the reason for the power consumption: it's largely about graphics. Yet you can have equally fun play experiences with games that have far simpler graphics (you only need to look at retro indie games to realise that). Games are very seductive, and I have always loved them. But really, there are infinite ways to entertain ourselves in a very rich and satisfying way, or even a quick and easy way, that don't even use a computer. Some of them are even good for our health too! But back to the main point: the amount of CO2 production that goes into running gaming machines, let alone that which goes into manufacturing the hardware itself, is probably one of the more significant single sources of CO2 footprint that an individual has outside of a car and food. Worth thinking more about. If you wanted to get into it, you could probably do a rough calculation of the CO2 footprint for gaming and make a side by side comparison with the CO2 footprint of various other things we do or own. Shouldn't be that hard to begin building some kind of picture of this.\"]\n"
     ]
    }
   ],
   "source": [
    "new_frame = []\n",
    "row = good_rows[0]\n",
    "row = row[1:]\n",
    "comments = row[-1]\n",
    "comments = comments.split('#^_^#')\n",
    "for comment in comments[0:-1]:\n",
    "    new_row = row[0:-1] + [comment]\n",
    "    print(new_row)\n",
    "    new_frame.append(new_row)"
   ]
  },
  {
   "cell_type": "code",
   "execution_count": 16,
   "id": "b2381f8b",
   "metadata": {},
   "outputs": [
    {
     "name": "stdout",
     "output_type": "stream",
     "text": [
      "[['Question about us gamers', 2, 'i5a7p5', 'climatechange', 'https://www.reddit.com/r/climatechange/comments/i5a7p5/question_about_us_gamers/', 18, 'Does the power consumption we have on our builds affect this?\\n\\nor are we all just a drop of water in a big bucket.\\n\\ni mean i see some pc builds whose power consumption goes up to almost if not a KW \\n\\nshould companies be blocked i  releasing videocards that consume.more than 150wats? \\nor cpu with no more than 65?', 1596789434.0, 'I remember seeing a nice graph showing the annual power consumption of gaming in America compared to transport and other things, can\\'t find it right now, but I did manage to find this article which sums it up pretty clearly: \\n\\n [https://www.pcgamesn.com/microsoft/gaming-environmental-impact](https://www.pcgamesn.com/microsoft/gaming-environmental-impact) \\n\\n\" **Counting PCs, laptops, and consoles, gaming hardware has the same carbon footprint as 85 million refrigerators or 5 million gas-guzzling cars.** \" - not worldwide, but in America.\\n\\nThe article also makes some points about companies intending to significantly reduce their footprint by making hardware more efficient (playstation 5 promises greener efficiency and Logitech also promised to go greener I\\'ve read somewhere today, in the sense of being carbon neutral in their production or something to that effect).\\n\\nHowever as usual I really see the onus being primarily on the governments and economy - individuals like us can in little to no way really effect how companies manufacture their goods, or source their power, or design their hardware. Sure, we can take ourselves out of the equation or reduce our individual impact, but I don\\'t see how that\\'s a realistic solution, albeit being maybe a sensible and decent thing to do.'], ['Question about us gamers', 2, 'i5a7p5', 'climatechange', 'https://www.reddit.com/r/climatechange/comments/i5a7p5/question_about_us_gamers/', 18, 'Does the power consumption we have on our builds affect this?\\n\\nor are we all just a drop of water in a big bucket.\\n\\ni mean i see some pc builds whose power consumption goes up to almost if not a KW \\n\\nshould companies be blocked i  releasing videocards that consume.more than 150wats? \\nor cpu with no more than 65?', 1596789434.0, \"In the summer I would say wattage is quite significant, especially when the weather is hot enough to require you to trun on the AC to cool all that heat. \\n\\nThe mega computation (and also the wattage) that some of these high powered GPU's is crazy in my opinion. \\n\\nIt's not that rare that  people put 600W+ power supplies and pull ~500W on a gaming system. In the winter that makes a great space heater, but in the summer that number really adds up fast (it's about the same as the wattage that a window AC unit pulls).  \\n\\nUnless you have an efficient 720p oriented system, take a summer break from desktop gaming. An xbox or efficient APU system pull ~100W\\n\\nYou can still do laptop gaming and explore some other gaming genres that don't pull those crazy amounts of GPU computation. Eg strategy gaming, retro gaming, sims, etc. A laptop typically pulls under 50W, including losses to heat at the power supply.\"], ['Question about us gamers', 2, 'i5a7p5', 'climatechange', 'https://www.reddit.com/r/climatechange/comments/i5a7p5/question_about_us_gamers/', 18, 'Does the power consumption we have on our builds affect this?\\n\\nor are we all just a drop of water in a big bucket.\\n\\ni mean i see some pc builds whose power consumption goes up to almost if not a KW \\n\\nshould companies be blocked i  releasing videocards that consume.more than 150wats? \\nor cpu with no more than 65?', 1596789434.0, \"I have full wind power energy supplied at my place. I might still draw more power than I need sometimes but this is how I don't feel guilty about it. It's not expensive either. I hope it's an option where you live.\"], ['Question about us gamers', 2, 'i5a7p5', 'climatechange', 'https://www.reddit.com/r/climatechange/comments/i5a7p5/question_about_us_gamers/', 18, 'Does the power consumption we have on our builds affect this?\\n\\nor are we all just a drop of water in a big bucket.\\n\\ni mean i see some pc builds whose power consumption goes up to almost if not a KW \\n\\nshould companies be blocked i  releasing videocards that consume.more than 150wats? \\nor cpu with no more than 65?', 1596789434.0, \"Yes, I'd say the power consumption from gaming is something to consider seriously. Consider also the reason for the power consumption: it's largely about graphics. Yet you can have equally fun play experiences with games that have far simpler graphics (you only need to look at retro indie games to realise that). Games are very seductive, and I have always loved them. But really, there are infinite ways to entertain ourselves in a very rich and satisfying way, or even a quick and easy way, that don't even use a computer. Some of them are even good for our health too! But back to the main point: the amount of CO2 production that goes into running gaming machines, let alone that which goes into manufacturing the hardware itself, is probably one of the more significant single sources of CO2 footprint that an individual has outside of a car and food. Worth thinking more about. If you wanted to get into it, you could probably do a rough calculation of the CO2 footprint for gaming and make a side by side comparison with the CO2 footprint of various other things we do or own. Shouldn't be that hard to begin building some kind of picture of this.\"]]\n"
     ]
    }
   ],
   "source": [
    "print(new_frame)"
   ]
  },
  {
   "cell_type": "code",
   "execution_count": 17,
   "id": "a17524c2",
   "metadata": {},
   "outputs": [
    {
     "name": "stdout",
     "output_type": "stream",
     "text": [
      "['Question about us gamers', 2, 'i5a7p5', 'climatechange', 'https://www.reddit.com/r/climatechange/comments/i5a7p5/question_about_us_gamers/', 18, 'Does the power consumption we have on our builds affect this?\\n\\nor are we all just a drop of water in a big bucket.\\n\\ni mean i see some pc builds whose power consumption goes up to almost if not a KW \\n\\nshould companies be blocked i  releasing videocards that consume.more than 150wats? \\nor cpu with no more than 65?', 1596789434.0, 'I remember seeing a nice graph showing the annual power consumption of gaming in America compared to transport and other things, can\\'t find it right now, but I did manage to find this article which sums it up pretty clearly: \\n\\n [https://www.pcgamesn.com/microsoft/gaming-environmental-impact](https://www.pcgamesn.com/microsoft/gaming-environmental-impact) \\n\\n\" **Counting PCs, laptops, and consoles, gaming hardware has the same carbon footprint as 85 million refrigerators or 5 million gas-guzzling cars.** \" - not worldwide, but in America.\\n\\nThe article also makes some points about companies intending to significantly reduce their footprint by making hardware more efficient (playstation 5 promises greener efficiency and Logitech also promised to go greener I\\'ve read somewhere today, in the sense of being carbon neutral in their production or something to that effect).\\n\\nHowever as usual I really see the onus being primarily on the governments and economy - individuals like us can in little to no way really effect how companies manufacture their goods, or source their power, or design their hardware. Sure, we can take ourselves out of the equation or reduce our individual impact, but I don\\'t see how that\\'s a realistic solution, albeit being maybe a sensible and decent thing to do.']\n"
     ]
    }
   ],
   "source": [
    "print(new_frame[0])"
   ]
  },
  {
   "cell_type": "code",
   "execution_count": 59,
   "id": "6b4895f4",
   "metadata": {},
   "outputs": [],
   "source": [
    "final_df = pd.DataFrame(new_frame,columns=['title', 'score', 'id', 'subreddit', 'url', 'num_comments', 'body', 'created', 'comment'])"
   ]
  },
  {
   "cell_type": "code",
   "execution_count": 61,
   "id": "aaa669aa",
   "metadata": {},
   "outputs": [],
   "source": [
    "final_df.to_csv('preprocessed_reddit.csv')"
   ]
  },
  {
   "cell_type": "code",
   "execution_count": null,
   "id": "739de193",
   "metadata": {},
   "outputs": [],
   "source": []
  }
 ],
 "metadata": {
  "kernelspec": {
   "display_name": "Python 3",
   "language": "python",
   "name": "python3"
  },
  "language_info": {
   "codemirror_mode": {
    "name": "ipython",
    "version": 3
   },
   "file_extension": ".py",
   "mimetype": "text/x-python",
   "name": "python",
   "nbconvert_exporter": "python",
   "pygments_lexer": "ipython3",
   "version": "3.8.8"
  }
 },
 "nbformat": 4,
 "nbformat_minor": 5
}
