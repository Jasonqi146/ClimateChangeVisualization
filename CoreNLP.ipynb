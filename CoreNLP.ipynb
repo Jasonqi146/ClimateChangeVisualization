{
 "cells": [
  {
   "cell_type": "code",
   "execution_count": 1,
   "id": "8762a550",
   "metadata": {},
   "outputs": [],
   "source": [
    "from pycorenlp import StanfordCoreNLP"
   ]
  },
  {
   "cell_type": "code",
   "execution_count": 2,
   "id": "55a0ed08",
   "metadata": {},
   "outputs": [],
   "source": [
    "nlp = StanfordCoreNLP('http://localhost:9000')"
   ]
  },
  {
   "cell_type": "code",
   "execution_count": 3,
   "id": "bbe213db",
   "metadata": {},
   "outputs": [],
   "source": [
    "from nltk.parse import CoreNLPParser"
   ]
  },
  {
   "cell_type": "code",
   "execution_count": 4,
   "id": "0623ff11",
   "metadata": {},
   "outputs": [],
   "source": [
    "result = CoreNLPParser(url='http://localhost:9000')"
   ]
  },
  {
   "cell_type": "code",
   "execution_count": 9,
   "id": "3442ff9d",
   "metadata": {},
   "outputs": [],
   "source": [
    "text = \"This movie was actually neither that funny, nor super witty. The movie was meh. I liked watching that movie. If I had a choice, I would not watch that movie again.\"\n",
    "result = nlp.annotate(text,\n",
    "                   properties={\n",
    "                       'annotators': 'sentiment, ner, pos',\n",
    "                       'outputFormat': 'json',\n",
    "                       'timeout': 100000,\n",
    "                   })"
   ]
  },
  {
   "cell_type": "code",
   "execution_count": 11,
   "id": "c71874f3",
   "metadata": {},
   "outputs": [
    {
     "name": "stdout",
     "output_type": "stream",
     "text": [
      "[{'index': 0, 'parse': '(ROOT\\n  (S\\n    (NP (DT This) (NN movie))\\n    (VP (VBD was)\\n      (ADJP\\n        (ADVP (RB actually))\\n        (CC neither)\\n        (ADJP (DT that) (JJ funny))\\n        (, ,)\\n        (CC nor)\\n        (ADJP (JJ super) (JJ witty))))\\n    (. .)))', 'basicDependencies': [{'dep': 'ROOT', 'governor': 0, 'governorGloss': 'ROOT', 'dependent': 4, 'dependentGloss': 'actually'}, {'dep': 'det', 'governor': 2, 'governorGloss': 'movie', 'dependent': 1, 'dependentGloss': 'This'}, {'dep': 'nsubj', 'governor': 4, 'governorGloss': 'actually', 'dependent': 2, 'dependentGloss': 'movie'}, {'dep': 'cop', 'governor': 4, 'governorGloss': 'actually', 'dependent': 3, 'dependentGloss': 'was'}, {'dep': 'cc:preconj', 'governor': 4, 'governorGloss': 'actually', 'dependent': 5, 'dependentGloss': 'neither'}, {'dep': 'det', 'governor': 7, 'governorGloss': 'funny', 'dependent': 6, 'dependentGloss': 'that'}, {'dep': 'conj', 'governor': 4, 'governorGloss': 'actually', 'dependent': 7, 'dependentGloss': 'funny'}, {'dep': 'punct', 'governor': 4, 'governorGloss': 'actually', 'dependent': 8, 'dependentGloss': ','}, {'dep': 'cc', 'governor': 4, 'governorGloss': 'actually', 'dependent': 9, 'dependentGloss': 'nor'}, {'dep': 'amod', 'governor': 11, 'governorGloss': 'witty', 'dependent': 10, 'dependentGloss': 'super'}, {'dep': 'conj', 'governor': 4, 'governorGloss': 'actually', 'dependent': 11, 'dependentGloss': 'witty'}, {'dep': 'punct', 'governor': 4, 'governorGloss': 'actually', 'dependent': 12, 'dependentGloss': '.'}], 'enhancedDependencies': [{'dep': 'ROOT', 'governor': 0, 'governorGloss': 'ROOT', 'dependent': 4, 'dependentGloss': 'actually'}, {'dep': 'det', 'governor': 2, 'governorGloss': 'movie', 'dependent': 1, 'dependentGloss': 'This'}, {'dep': 'nsubj', 'governor': 4, 'governorGloss': 'actually', 'dependent': 2, 'dependentGloss': 'movie'}, {'dep': 'nsubj', 'governor': 7, 'governorGloss': 'funny', 'dependent': 2, 'dependentGloss': 'movie'}, {'dep': 'nsubj', 'governor': 11, 'governorGloss': 'witty', 'dependent': 2, 'dependentGloss': 'movie'}, {'dep': 'cop', 'governor': 4, 'governorGloss': 'actually', 'dependent': 3, 'dependentGloss': 'was'}, {'dep': 'cc:preconj', 'governor': 4, 'governorGloss': 'actually', 'dependent': 5, 'dependentGloss': 'neither'}, {'dep': 'det', 'governor': 7, 'governorGloss': 'funny', 'dependent': 6, 'dependentGloss': 'that'}, {'dep': 'conj:nor', 'governor': 4, 'governorGloss': 'actually', 'dependent': 7, 'dependentGloss': 'funny'}, {'dep': 'punct', 'governor': 4, 'governorGloss': 'actually', 'dependent': 8, 'dependentGloss': ','}, {'dep': 'cc', 'governor': 4, 'governorGloss': 'actually', 'dependent': 9, 'dependentGloss': 'nor'}, {'dep': 'amod', 'governor': 11, 'governorGloss': 'witty', 'dependent': 10, 'dependentGloss': 'super'}, {'dep': 'conj:nor', 'governor': 4, 'governorGloss': 'actually', 'dependent': 11, 'dependentGloss': 'witty'}, {'dep': 'punct', 'governor': 4, 'governorGloss': 'actually', 'dependent': 12, 'dependentGloss': '.'}], 'enhancedPlusPlusDependencies': [{'dep': 'ROOT', 'governor': 0, 'governorGloss': 'ROOT', 'dependent': 4, 'dependentGloss': 'actually'}, {'dep': 'det', 'governor': 2, 'governorGloss': 'movie', 'dependent': 1, 'dependentGloss': 'This'}, {'dep': 'nsubj', 'governor': 4, 'governorGloss': 'actually', 'dependent': 2, 'dependentGloss': 'movie'}, {'dep': 'nsubj', 'governor': 7, 'governorGloss': 'funny', 'dependent': 2, 'dependentGloss': 'movie'}, {'dep': 'nsubj', 'governor': 11, 'governorGloss': 'witty', 'dependent': 2, 'dependentGloss': 'movie'}, {'dep': 'cop', 'governor': 4, 'governorGloss': 'actually', 'dependent': 3, 'dependentGloss': 'was'}, {'dep': 'cc:preconj', 'governor': 4, 'governorGloss': 'actually', 'dependent': 5, 'dependentGloss': 'neither'}, {'dep': 'det', 'governor': 7, 'governorGloss': 'funny', 'dependent': 6, 'dependentGloss': 'that'}, {'dep': 'conj:nor', 'governor': 4, 'governorGloss': 'actually', 'dependent': 7, 'dependentGloss': 'funny'}, {'dep': 'punct', 'governor': 4, 'governorGloss': 'actually', 'dependent': 8, 'dependentGloss': ','}, {'dep': 'cc', 'governor': 4, 'governorGloss': 'actually', 'dependent': 9, 'dependentGloss': 'nor'}, {'dep': 'amod', 'governor': 11, 'governorGloss': 'witty', 'dependent': 10, 'dependentGloss': 'super'}, {'dep': 'conj:nor', 'governor': 4, 'governorGloss': 'actually', 'dependent': 11, 'dependentGloss': 'witty'}, {'dep': 'punct', 'governor': 4, 'governorGloss': 'actually', 'dependent': 12, 'dependentGloss': '.'}], 'sentimentValue': '1', 'sentiment': 'Negative', 'sentimentDistribution': [0.18668278907607, 0.52243946222855, 0.1286760912247, 0.1111918907674, 0.05100976670328], 'sentimentTree': '(ROOT|sentiment=1|prob=0.522\\n  (NP|sentiment=2|prob=0.988 (DT|sentiment=2|prob=0.998 This) (NN|sentiment=2|prob=0.998 movie))\\n  (@S|sentiment=1|prob=0.374\\n    (VP|sentiment=1|prob=0.394 (VBD|sentiment=2|prob=0.996 was)\\n      (ADJP|sentiment=3|prob=0.313\\n        (@ADJP|sentiment=1|prob=0.458\\n          (@ADJP|sentiment=3|prob=0.403\\n            (@ADJP|sentiment=3|prob=0.444\\n              (@ADJP|sentiment=2|prob=0.907 (ADVP|sentiment=2|prob=0.996 actually)\\n                (CC|sentiment=2|prob=0.971 neither))\\n              (ADJP|sentiment=3|prob=0.657 (DT|sentiment=2|prob=0.991 that) (JJ|sentiment=3|prob=0.980 funny)))\\n            (,|sentiment=2|prob=0.997 ,))\\n          (CC|sentiment=2|prob=0.960 nor))\\n        (ADJP|sentiment=3|prob=0.550 (JJ|sentiment=4|prob=0.334 super) (JJ|sentiment=3|prob=0.958 witty))))\\n    (.|sentiment=2|prob=0.997 .)))', 'entitymentions': [], 'tokens': [{'index': 1, 'word': 'This', 'originalText': 'This', 'lemma': 'this', 'characterOffsetBegin': 0, 'characterOffsetEnd': 4, 'pos': 'DT', 'ner': 'O', 'before': '', 'after': ' '}, {'index': 2, 'word': 'movie', 'originalText': 'movie', 'lemma': 'movie', 'characterOffsetBegin': 5, 'characterOffsetEnd': 10, 'pos': 'NN', 'ner': 'O', 'before': ' ', 'after': ' '}, {'index': 3, 'word': 'was', 'originalText': 'was', 'lemma': 'be', 'characterOffsetBegin': 11, 'characterOffsetEnd': 14, 'pos': 'VBD', 'ner': 'O', 'before': ' ', 'after': ' '}, {'index': 4, 'word': 'actually', 'originalText': 'actually', 'lemma': 'actually', 'characterOffsetBegin': 15, 'characterOffsetEnd': 23, 'pos': 'RB', 'ner': 'O', 'before': ' ', 'after': ' '}, {'index': 5, 'word': 'neither', 'originalText': 'neither', 'lemma': 'neither', 'characterOffsetBegin': 24, 'characterOffsetEnd': 31, 'pos': 'CC', 'ner': 'O', 'before': ' ', 'after': ' '}, {'index': 6, 'word': 'that', 'originalText': 'that', 'lemma': 'that', 'characterOffsetBegin': 32, 'characterOffsetEnd': 36, 'pos': 'DT', 'ner': 'O', 'before': ' ', 'after': ' '}, {'index': 7, 'word': 'funny', 'originalText': 'funny', 'lemma': 'funny', 'characterOffsetBegin': 37, 'characterOffsetEnd': 42, 'pos': 'JJ', 'ner': 'O', 'before': ' ', 'after': ''}, {'index': 8, 'word': ',', 'originalText': ',', 'lemma': ',', 'characterOffsetBegin': 42, 'characterOffsetEnd': 43, 'pos': ',', 'ner': 'O', 'before': '', 'after': ' '}, {'index': 9, 'word': 'nor', 'originalText': 'nor', 'lemma': 'nor', 'characterOffsetBegin': 44, 'characterOffsetEnd': 47, 'pos': 'CC', 'ner': 'O', 'before': ' ', 'after': ' '}, {'index': 10, 'word': 'super', 'originalText': 'super', 'lemma': 'super', 'characterOffsetBegin': 48, 'characterOffsetEnd': 53, 'pos': 'JJ', 'ner': 'O', 'before': ' ', 'after': ' '}, {'index': 11, 'word': 'witty', 'originalText': 'witty', 'lemma': 'witty', 'characterOffsetBegin': 54, 'characterOffsetEnd': 59, 'pos': 'JJ', 'ner': 'O', 'before': ' ', 'after': ''}, {'index': 12, 'word': '.', 'originalText': '.', 'lemma': '.', 'characterOffsetBegin': 59, 'characterOffsetEnd': 60, 'pos': '.', 'ner': 'O', 'before': '', 'after': ' '}]}, {'index': 1, 'parse': '(ROOT\\n  (S\\n    (NP (DT The) (NN movie))\\n    (VP (VBD was)\\n      (NP (NN meh)))\\n    (. .)))', 'basicDependencies': [{'dep': 'ROOT', 'governor': 0, 'governorGloss': 'ROOT', 'dependent': 4, 'dependentGloss': 'meh'}, {'dep': 'det', 'governor': 2, 'governorGloss': 'movie', 'dependent': 1, 'dependentGloss': 'The'}, {'dep': 'nsubj', 'governor': 4, 'governorGloss': 'meh', 'dependent': 2, 'dependentGloss': 'movie'}, {'dep': 'cop', 'governor': 4, 'governorGloss': 'meh', 'dependent': 3, 'dependentGloss': 'was'}, {'dep': 'punct', 'governor': 4, 'governorGloss': 'meh', 'dependent': 5, 'dependentGloss': '.'}], 'enhancedDependencies': [{'dep': 'ROOT', 'governor': 0, 'governorGloss': 'ROOT', 'dependent': 4, 'dependentGloss': 'meh'}, {'dep': 'det', 'governor': 2, 'governorGloss': 'movie', 'dependent': 1, 'dependentGloss': 'The'}, {'dep': 'nsubj', 'governor': 4, 'governorGloss': 'meh', 'dependent': 2, 'dependentGloss': 'movie'}, {'dep': 'cop', 'governor': 4, 'governorGloss': 'meh', 'dependent': 3, 'dependentGloss': 'was'}, {'dep': 'punct', 'governor': 4, 'governorGloss': 'meh', 'dependent': 5, 'dependentGloss': '.'}], 'enhancedPlusPlusDependencies': [{'dep': 'ROOT', 'governor': 0, 'governorGloss': 'ROOT', 'dependent': 4, 'dependentGloss': 'meh'}, {'dep': 'det', 'governor': 2, 'governorGloss': 'movie', 'dependent': 1, 'dependentGloss': 'The'}, {'dep': 'nsubj', 'governor': 4, 'governorGloss': 'meh', 'dependent': 2, 'dependentGloss': 'movie'}, {'dep': 'cop', 'governor': 4, 'governorGloss': 'meh', 'dependent': 3, 'dependentGloss': 'was'}, {'dep': 'punct', 'governor': 4, 'governorGloss': 'meh', 'dependent': 5, 'dependentGloss': '.'}], 'sentimentValue': '2', 'sentiment': 'Neutral', 'sentimentDistribution': [0.05019049869942, 0.3390396869271, 0.47577963492087, 0.11969948787421, 0.01529069157841], 'sentimentTree': '(ROOT|sentiment=2|prob=0.476\\n  (NP|sentiment=2|prob=0.992 (DT|sentiment=2|prob=0.993 The) (NN|sentiment=2|prob=0.998 movie))\\n  (@S|sentiment=2|prob=0.700\\n    (VP|sentiment=2|prob=0.759 (VBD|sentiment=2|prob=0.996 was) (NP|sentiment=2|prob=0.631 meh))\\n    (.|sentiment=2|prob=0.997 .)))', 'entitymentions': [], 'tokens': [{'index': 1, 'word': 'The', 'originalText': 'The', 'lemma': 'the', 'characterOffsetBegin': 61, 'characterOffsetEnd': 64, 'pos': 'DT', 'ner': 'O', 'before': ' ', 'after': ' '}, {'index': 2, 'word': 'movie', 'originalText': 'movie', 'lemma': 'movie', 'characterOffsetBegin': 65, 'characterOffsetEnd': 70, 'pos': 'NN', 'ner': 'O', 'before': ' ', 'after': ' '}, {'index': 3, 'word': 'was', 'originalText': 'was', 'lemma': 'be', 'characterOffsetBegin': 71, 'characterOffsetEnd': 74, 'pos': 'VBD', 'ner': 'O', 'before': ' ', 'after': ' '}, {'index': 4, 'word': 'meh', 'originalText': 'meh', 'lemma': 'meh', 'characterOffsetBegin': 75, 'characterOffsetEnd': 78, 'pos': 'NN', 'ner': 'O', 'before': ' ', 'after': ''}, {'index': 5, 'word': '.', 'originalText': '.', 'lemma': '.', 'characterOffsetBegin': 78, 'characterOffsetEnd': 79, 'pos': '.', 'ner': 'O', 'before': '', 'after': ' '}]}, {'index': 2, 'parse': '(ROOT\\n  (S\\n    (NP (PRP I))\\n    (VP (VBD liked)\\n      (S\\n        (VP (VBG watching)\\n          (NP (IN that) (NN movie)))))\\n    (. .)))', 'basicDependencies': [{'dep': 'ROOT', 'governor': 0, 'governorGloss': 'ROOT', 'dependent': 2, 'dependentGloss': 'liked'}, {'dep': 'nsubj', 'governor': 2, 'governorGloss': 'liked', 'dependent': 1, 'dependentGloss': 'I'}, {'dep': 'xcomp', 'governor': 2, 'governorGloss': 'liked', 'dependent': 3, 'dependentGloss': 'watching'}, {'dep': 'amod', 'governor': 5, 'governorGloss': 'movie', 'dependent': 4, 'dependentGloss': 'that'}, {'dep': 'dobj', 'governor': 3, 'governorGloss': 'watching', 'dependent': 5, 'dependentGloss': 'movie'}, {'dep': 'punct', 'governor': 2, 'governorGloss': 'liked', 'dependent': 6, 'dependentGloss': '.'}], 'enhancedDependencies': [{'dep': 'ROOT', 'governor': 0, 'governorGloss': 'ROOT', 'dependent': 2, 'dependentGloss': 'liked'}, {'dep': 'nsubj', 'governor': 2, 'governorGloss': 'liked', 'dependent': 1, 'dependentGloss': 'I'}, {'dep': 'xcomp', 'governor': 2, 'governorGloss': 'liked', 'dependent': 3, 'dependentGloss': 'watching'}, {'dep': 'amod', 'governor': 5, 'governorGloss': 'movie', 'dependent': 4, 'dependentGloss': 'that'}, {'dep': 'dobj', 'governor': 3, 'governorGloss': 'watching', 'dependent': 5, 'dependentGloss': 'movie'}, {'dep': 'punct', 'governor': 2, 'governorGloss': 'liked', 'dependent': 6, 'dependentGloss': '.'}], 'enhancedPlusPlusDependencies': [{'dep': 'ROOT', 'governor': 0, 'governorGloss': 'ROOT', 'dependent': 2, 'dependentGloss': 'liked'}, {'dep': 'nsubj', 'governor': 2, 'governorGloss': 'liked', 'dependent': 1, 'dependentGloss': 'I'}, {'dep': 'xcomp', 'governor': 2, 'governorGloss': 'liked', 'dependent': 3, 'dependentGloss': 'watching'}, {'dep': 'amod', 'governor': 5, 'governorGloss': 'movie', 'dependent': 4, 'dependentGloss': 'that'}, {'dep': 'dobj', 'governor': 3, 'governorGloss': 'watching', 'dependent': 5, 'dependentGloss': 'movie'}, {'dep': 'punct', 'governor': 2, 'governorGloss': 'liked', 'dependent': 6, 'dependentGloss': '.'}], 'sentimentValue': '3', 'sentiment': 'Positive', 'sentimentDistribution': [0.00811406489426, 0.01598160380936, 0.13633248839131, 0.62916963136039, 0.21040221154467], 'sentimentTree': '(ROOT|sentiment=3|prob=0.629 (NP|sentiment=2|prob=0.996 I)\\n  (@S|sentiment=3|prob=0.731\\n    (VP|sentiment=3|prob=0.790 (VBD|sentiment=3|prob=0.893 liked)\\n      (S|sentiment=2|prob=0.978 (VBG|sentiment=2|prob=0.998 watching)\\n        (NP|sentiment=2|prob=0.975 (IN|sentiment=2|prob=0.991 that) (NN|sentiment=2|prob=0.998 movie))))\\n    (.|sentiment=2|prob=0.997 .)))', 'entitymentions': [], 'tokens': [{'index': 1, 'word': 'I', 'originalText': 'I', 'lemma': 'I', 'characterOffsetBegin': 80, 'characterOffsetEnd': 81, 'pos': 'PRP', 'ner': 'O', 'before': ' ', 'after': ' '}, {'index': 2, 'word': 'liked', 'originalText': 'liked', 'lemma': 'like', 'characterOffsetBegin': 82, 'characterOffsetEnd': 87, 'pos': 'VBD', 'ner': 'O', 'before': ' ', 'after': ' '}, {'index': 3, 'word': 'watching', 'originalText': 'watching', 'lemma': 'watch', 'characterOffsetBegin': 88, 'characterOffsetEnd': 96, 'pos': 'VBG', 'ner': 'O', 'before': ' ', 'after': ' '}, {'index': 4, 'word': 'that', 'originalText': 'that', 'lemma': 'that', 'characterOffsetBegin': 97, 'characterOffsetEnd': 101, 'pos': 'IN', 'ner': 'O', 'before': ' ', 'after': ' '}, {'index': 5, 'word': 'movie', 'originalText': 'movie', 'lemma': 'movie', 'characterOffsetBegin': 102, 'characterOffsetEnd': 107, 'pos': 'NN', 'ner': 'O', 'before': ' ', 'after': ''}, {'index': 6, 'word': '.', 'originalText': '.', 'lemma': '.', 'characterOffsetBegin': 107, 'characterOffsetEnd': 108, 'pos': '.', 'ner': 'O', 'before': '', 'after': ' '}]}, {'index': 3, 'parse': '(ROOT\\n  (S\\n    (SBAR (IN If)\\n      (S\\n        (NP (PRP I))\\n        (VP (VBD had)\\n          (NP (DT a) (NN choice)))))\\n    (, ,)\\n    (NP (PRP I))\\n    (VP (MD would) (RB not)\\n      (VP (VB watch)\\n        (NP (IN that) (NN movie))\\n        (ADVP (RB again))))\\n    (. .)))', 'basicDependencies': [{'dep': 'ROOT', 'governor': 0, 'governorGloss': 'ROOT', 'dependent': 10, 'dependentGloss': 'watch'}, {'dep': 'mark', 'governor': 3, 'governorGloss': 'had', 'dependent': 1, 'dependentGloss': 'If'}, {'dep': 'nsubj', 'governor': 3, 'governorGloss': 'had', 'dependent': 2, 'dependentGloss': 'I'}, {'dep': 'advcl', 'governor': 10, 'governorGloss': 'watch', 'dependent': 3, 'dependentGloss': 'had'}, {'dep': 'det', 'governor': 5, 'governorGloss': 'choice', 'dependent': 4, 'dependentGloss': 'a'}, {'dep': 'dobj', 'governor': 3, 'governorGloss': 'had', 'dependent': 5, 'dependentGloss': 'choice'}, {'dep': 'punct', 'governor': 10, 'governorGloss': 'watch', 'dependent': 6, 'dependentGloss': ','}, {'dep': 'nsubj', 'governor': 10, 'governorGloss': 'watch', 'dependent': 7, 'dependentGloss': 'I'}, {'dep': 'aux', 'governor': 10, 'governorGloss': 'watch', 'dependent': 8, 'dependentGloss': 'would'}, {'dep': 'neg', 'governor': 10, 'governorGloss': 'watch', 'dependent': 9, 'dependentGloss': 'not'}, {'dep': 'amod', 'governor': 12, 'governorGloss': 'movie', 'dependent': 11, 'dependentGloss': 'that'}, {'dep': 'dobj', 'governor': 10, 'governorGloss': 'watch', 'dependent': 12, 'dependentGloss': 'movie'}, {'dep': 'advmod', 'governor': 10, 'governorGloss': 'watch', 'dependent': 13, 'dependentGloss': 'again'}, {'dep': 'punct', 'governor': 10, 'governorGloss': 'watch', 'dependent': 14, 'dependentGloss': '.'}], 'enhancedDependencies': [{'dep': 'ROOT', 'governor': 0, 'governorGloss': 'ROOT', 'dependent': 10, 'dependentGloss': 'watch'}, {'dep': 'mark', 'governor': 3, 'governorGloss': 'had', 'dependent': 1, 'dependentGloss': 'If'}, {'dep': 'nsubj', 'governor': 3, 'governorGloss': 'had', 'dependent': 2, 'dependentGloss': 'I'}, {'dep': 'advcl:if', 'governor': 10, 'governorGloss': 'watch', 'dependent': 3, 'dependentGloss': 'had'}, {'dep': 'det', 'governor': 5, 'governorGloss': 'choice', 'dependent': 4, 'dependentGloss': 'a'}, {'dep': 'dobj', 'governor': 3, 'governorGloss': 'had', 'dependent': 5, 'dependentGloss': 'choice'}, {'dep': 'punct', 'governor': 10, 'governorGloss': 'watch', 'dependent': 6, 'dependentGloss': ','}, {'dep': 'nsubj', 'governor': 10, 'governorGloss': 'watch', 'dependent': 7, 'dependentGloss': 'I'}, {'dep': 'aux', 'governor': 10, 'governorGloss': 'watch', 'dependent': 8, 'dependentGloss': 'would'}, {'dep': 'neg', 'governor': 10, 'governorGloss': 'watch', 'dependent': 9, 'dependentGloss': 'not'}, {'dep': 'amod', 'governor': 12, 'governorGloss': 'movie', 'dependent': 11, 'dependentGloss': 'that'}, {'dep': 'dobj', 'governor': 10, 'governorGloss': 'watch', 'dependent': 12, 'dependentGloss': 'movie'}, {'dep': 'advmod', 'governor': 10, 'governorGloss': 'watch', 'dependent': 13, 'dependentGloss': 'again'}, {'dep': 'punct', 'governor': 10, 'governorGloss': 'watch', 'dependent': 14, 'dependentGloss': '.'}], 'enhancedPlusPlusDependencies': [{'dep': 'ROOT', 'governor': 0, 'governorGloss': 'ROOT', 'dependent': 10, 'dependentGloss': 'watch'}, {'dep': 'mark', 'governor': 3, 'governorGloss': 'had', 'dependent': 1, 'dependentGloss': 'If'}, {'dep': 'nsubj', 'governor': 3, 'governorGloss': 'had', 'dependent': 2, 'dependentGloss': 'I'}, {'dep': 'advcl:if', 'governor': 10, 'governorGloss': 'watch', 'dependent': 3, 'dependentGloss': 'had'}, {'dep': 'det', 'governor': 5, 'governorGloss': 'choice', 'dependent': 4, 'dependentGloss': 'a'}, {'dep': 'dobj', 'governor': 3, 'governorGloss': 'had', 'dependent': 5, 'dependentGloss': 'choice'}, {'dep': 'punct', 'governor': 10, 'governorGloss': 'watch', 'dependent': 6, 'dependentGloss': ','}, {'dep': 'nsubj', 'governor': 10, 'governorGloss': 'watch', 'dependent': 7, 'dependentGloss': 'I'}, {'dep': 'aux', 'governor': 10, 'governorGloss': 'watch', 'dependent': 8, 'dependentGloss': 'would'}, {'dep': 'neg', 'governor': 10, 'governorGloss': 'watch', 'dependent': 9, 'dependentGloss': 'not'}, {'dep': 'amod', 'governor': 12, 'governorGloss': 'movie', 'dependent': 11, 'dependentGloss': 'that'}, {'dep': 'dobj', 'governor': 10, 'governorGloss': 'watch', 'dependent': 12, 'dependentGloss': 'movie'}, {'dep': 'advmod', 'governor': 10, 'governorGloss': 'watch', 'dependent': 13, 'dependentGloss': 'again'}, {'dep': 'punct', 'governor': 10, 'governorGloss': 'watch', 'dependent': 14, 'dependentGloss': '.'}], 'sentimentValue': '1', 'sentiment': 'Negative', 'sentimentDistribution': [0.12557918312516, 0.70965166321132, 0.1366398517511, 0.02219355055953, 0.00593575135289], 'sentimentTree': '(ROOT|sentiment=1|prob=0.710\\n  (SBAR|sentiment=2|prob=0.887 (IN|sentiment=2|prob=0.997 If)\\n    (S|sentiment=2|prob=0.851 (NP|sentiment=2|prob=0.996 I)\\n      (VP|sentiment=2|prob=0.913 (VBD|sentiment=2|prob=0.997 had)\\n        (NP|sentiment=2|prob=0.881 (DT|sentiment=2|prob=0.990 a) (NN|sentiment=2|prob=0.975 choice)))))\\n  (@S|sentiment=1|prob=0.587 (,|sentiment=2|prob=0.997 ,)\\n    (@S|sentiment=1|prob=0.631 (NP|sentiment=2|prob=0.996 I)\\n      (@S|sentiment=1|prob=0.616\\n        (VP|sentiment=1|prob=0.521\\n          (@VP|sentiment=2|prob=0.856 (MD|sentiment=2|prob=0.997 would) (RB|sentiment=1|prob=0.974 not))\\n          (VP|sentiment=3|prob=0.496\\n            (@VP|sentiment=2|prob=0.585 (VB|sentiment=2|prob=0.993 watch)\\n              (NP|sentiment=2|prob=0.975 (IN|sentiment=2|prob=0.991 that) (NN|sentiment=2|prob=0.998 movie)))\\n            (ADVP|sentiment=2|prob=0.998 again)))\\n        (.|sentiment=2|prob=0.997 .)))))', 'entitymentions': [], 'tokens': [{'index': 1, 'word': 'If', 'originalText': 'If', 'lemma': 'if', 'characterOffsetBegin': 109, 'characterOffsetEnd': 111, 'pos': 'IN', 'ner': 'O', 'before': ' ', 'after': ' '}, {'index': 2, 'word': 'I', 'originalText': 'I', 'lemma': 'I', 'characterOffsetBegin': 112, 'characterOffsetEnd': 113, 'pos': 'PRP', 'ner': 'O', 'before': ' ', 'after': ' '}, {'index': 3, 'word': 'had', 'originalText': 'had', 'lemma': 'have', 'characterOffsetBegin': 114, 'characterOffsetEnd': 117, 'pos': 'VBD', 'ner': 'O', 'before': ' ', 'after': ' '}, {'index': 4, 'word': 'a', 'originalText': 'a', 'lemma': 'a', 'characterOffsetBegin': 118, 'characterOffsetEnd': 119, 'pos': 'DT', 'ner': 'O', 'before': ' ', 'after': ' '}, {'index': 5, 'word': 'choice', 'originalText': 'choice', 'lemma': 'choice', 'characterOffsetBegin': 120, 'characterOffsetEnd': 126, 'pos': 'NN', 'ner': 'O', 'before': ' ', 'after': ''}, {'index': 6, 'word': ',', 'originalText': ',', 'lemma': ',', 'characterOffsetBegin': 126, 'characterOffsetEnd': 127, 'pos': ',', 'ner': 'O', 'before': '', 'after': ' '}, {'index': 7, 'word': 'I', 'originalText': 'I', 'lemma': 'I', 'characterOffsetBegin': 128, 'characterOffsetEnd': 129, 'pos': 'PRP', 'ner': 'O', 'before': ' ', 'after': ' '}, {'index': 8, 'word': 'would', 'originalText': 'would', 'lemma': 'would', 'characterOffsetBegin': 130, 'characterOffsetEnd': 135, 'pos': 'MD', 'ner': 'O', 'before': ' ', 'after': ' '}, {'index': 9, 'word': 'not', 'originalText': 'not', 'lemma': 'not', 'characterOffsetBegin': 136, 'characterOffsetEnd': 139, 'pos': 'RB', 'ner': 'O', 'before': ' ', 'after': ' '}, {'index': 10, 'word': 'watch', 'originalText': 'watch', 'lemma': 'watch', 'characterOffsetBegin': 140, 'characterOffsetEnd': 145, 'pos': 'VB', 'ner': 'O', 'before': ' ', 'after': ' '}, {'index': 11, 'word': 'that', 'originalText': 'that', 'lemma': 'that', 'characterOffsetBegin': 146, 'characterOffsetEnd': 150, 'pos': 'IN', 'ner': 'O', 'before': ' ', 'after': ' '}, {'index': 12, 'word': 'movie', 'originalText': 'movie', 'lemma': 'movie', 'characterOffsetBegin': 151, 'characterOffsetEnd': 156, 'pos': 'NN', 'ner': 'O', 'before': ' ', 'after': ' '}, {'index': 13, 'word': 'again', 'originalText': 'again', 'lemma': 'again', 'characterOffsetBegin': 157, 'characterOffsetEnd': 162, 'pos': 'RB', 'ner': 'O', 'before': ' ', 'after': ''}, {'index': 14, 'word': '.', 'originalText': '.', 'lemma': '.', 'characterOffsetBegin': 162, 'characterOffsetEnd': 163, 'pos': '.', 'ner': 'O', 'before': '', 'after': ''}]}]\n"
     ]
    }
   ],
   "source": [
    "print(result['sentences'])"
   ]
  },
  {
   "cell_type": "code",
   "execution_count": 12,
   "id": "62698315",
   "metadata": {},
   "outputs": [
    {
     "name": "stdout",
     "output_type": "stream",
     "text": [
      "0: 'This movie was actually neither that funny , nor super witty .': 1 (Sentiment Value) Negative (Sentiment)\n",
      "1: 'The movie was meh .': 2 (Sentiment Value) Neutral (Sentiment)\n",
      "2: 'I liked watching that movie .': 3 (Sentiment Value) Positive (Sentiment)\n",
      "3: 'If I had a choice , I would not watch that movie again .': 1 (Sentiment Value) Negative (Sentiment)\n"
     ]
    }
   ],
   "source": [
    "for s in result[\"sentences\"]:\n",
    "    print(\"{}: '{}': {} (Sentiment Value) {} (Sentiment)\".format(\n",
    "        s[\"index\"],\n",
    "        \" \".join([t[\"word\"] for t in s[\"tokens\"]]),\n",
    "        s[\"sentimentValue\"], s[\"sentiment\"]))"
   ]
  },
  {
   "cell_type": "code",
   "execution_count": null,
   "id": "d5e3a124",
   "metadata": {},
   "outputs": [],
   "source": []
  }
 ],
 "metadata": {
  "kernelspec": {
   "display_name": "Python 3",
   "language": "python",
   "name": "python3"
  },
  "language_info": {
   "codemirror_mode": {
    "name": "ipython",
    "version": 3
   },
   "file_extension": ".py",
   "mimetype": "text/x-python",
   "name": "python",
   "nbconvert_exporter": "python",
   "pygments_lexer": "ipython3",
   "version": "3.8.8"
  }
 },
 "nbformat": 4,
 "nbformat_minor": 5
}
